{
 "cells": [
  {
   "cell_type": "code",
   "execution_count": 1,
   "metadata": {},
   "outputs": [],
   "source": [
    "from data_import import import_user_ratings, import_semantic, generate_random_user_ratings_input\n",
    "from bliga import BookRecommendationSystem\n",
    "from tuner import HyperparameterTuner\n",
    "from evaluation import Evaluator\n",
    "\n",
    "\n",
    "# File paths for data import\n",
    "user_ratings_file = \"user_ratings.csv\"\n",
    "semantic_file = \"semantic.csv\"\n",
    "\n",
    "# Import data\n",
    "user_ratings = import_user_ratings(user_ratings_file)\n",
    "semantic = import_semantic(semantic_file)\n",
    "\n",
    "# Generate user_ratings_input\n",
    "user_ratings_input = generate_random_user_ratings_input(200)"
   ]
  },
  {
   "cell_type": "code",
   "execution_count": 2,
   "metadata": {},
   "outputs": [],
   "source": [
    "combinations_list = [\n",
    "    (50, 0.1, 10, \"one_point\", \"swap\", 5),\n",
    "    (50, 0.1, 10, \"one_point\", \"swap\", 10),\n",
    "    (50, 0.1, 10, \"one_point\", \"swap\", 15),\n",
    "    (50, 0.1, 10, \"one_point\", \"inversion\", 5),\n",
    "    (50, 0.1, 10, \"one_point\", \"inversion\", 10),\n",
    "    (50, 0.1, 10, \"one_point\", \"inversion\", 15),\n",
    "    (50, 0.1, 10, \"uniform\", \"swap\", 5),\n",
    "    (50, 0.1, 10, \"uniform\", \"swap\", 10),\n",
    "    (50, 0.1, 10, \"uniform\", \"swap\", 15),\n",
    "    (50, 0.1, 10, \"uniform\", \"inversion\", 5),\n",
    "    (50, 0.1, 10, \"uniform\", \"inversion\", 10),\n",
    "    (50, 0.1, 10, \"uniform\", \"inversion\", 15),\n",
    "    (50, 0.1, 20, \"one_point\", \"swap\", 5),\n",
    "    (50, 0.1, 20, \"one_point\", \"swap\", 10),\n",
    "    (50, 0.1, 20, \"one_point\", \"swap\", 15),\n",
    "    (50, 0.1, 20, \"one_point\", \"inversion\", 5),\n",
    "    (50, 0.1, 20, \"one_point\", \"inversion\", 10),\n",
    "    (50, 0.1, 20, \"one_point\", \"inversion\", 15),\n",
    "    (50, 0.1, 20, \"uniform\", \"swap\", 5),\n",
    "    (50, 0.1, 20, \"uniform\", \"swap\", 10),\n",
    "    (50, 0.1, 20, \"uniform\", \"swap\", 15),\n",
    "    (50, 0.1, 20, \"uniform\", \"inversion\", 5),\n",
    "    (50, 0.1, 20, \"uniform\", \"inversion\", 10),\n",
    "    (50, 0.1, 20, \"uniform\", \"inversion\", 15),\n",
    "    (50, 0.1, 40, \"one_point\", \"swap\", 5),\n",
    "    (50, 0.1, 40, \"one_point\", \"swap\", 10),\n",
    "    (50, 0.1, 40, \"one_point\", \"swap\", 15),\n",
    "    (50, 0.1, 40, \"one_point\", \"inversion\", 5),\n",
    "    (50, 0.1, 40, \"one_point\", \"inversion\", 10),\n",
    "    (50, 0.1, 40, \"one_point\", \"inversion\", 15),\n",
    "    (50, 0.1, 40, \"uniform\", \"swap\", 5),\n",
    "    (50, 0.1, 40, \"uniform\", \"swap\", 10),\n",
    "    (50, 0.1, 40, \"uniform\", \"swap\", 15),\n",
    "    (50, 0.1, 40, \"uniform\", \"inversion\", 5),\n",
    "    (50, 0.1, 40, \"uniform\", \"inversion\", 10),\n",
    "    (50, 0.1, 40, \"uniform\", \"inversion\", 15),\n",
    "    (50, 0.5, 10, \"one_point\", \"swap\", 5),\n",
    "    (50, 0.5, 10, \"one_point\", \"swap\", 10),\n",
    "    (50, 0.5, 10, \"one_point\", \"swap\", 15),\n",
    "    (50, 0.5, 10, \"one_point\", \"inversion\", 5),\n",
    "    (50, 0.5, 10, \"one_point\", \"inversion\", 10),\n",
    "    (50, 0.5, 10, \"one_point\", \"inversion\", 15),\n",
    "    (50, 0.5, 10, \"uniform\", \"swap\", 5),\n",
    "    (50, 0.5, 10, \"uniform\", \"swap\", 10),\n",
    "    (50, 0.5, 10, \"uniform\", \"swap\", 15),\n",
    "    (50, 0.5, 10, \"uniform\", \"inversion\", 5),\n",
    "    (50, 0.5, 10, \"uniform\", \"inversion\", 10),\n",
    "    (50, 0.5, 10, \"uniform\", \"inversion\", 15),\n",
    "    (50, 0.5, 20, \"one_point\", \"swap\", 5),\n",
    "    (50, 0.5, 20, \"one_point\", \"swap\", 10),\n",
    "    (50, 0.5, 20, \"one_point\", \"swap\", 15),\n",
    "    (50, 0.5, 20, \"one_point\", \"inversion\", 5),\n",
    "    (50, 0.5, 20, \"one_point\", \"inversion\", 10),\n",
    "    (50, 0.5, 20, \"one_point\", \"inversion\", 15),\n",
    "    (50, 0.5, 20, \"uniform\", \"swap\", 5),\n",
    "    (50, 0.5, 20, \"uniform\", \"swap\", 10),\n",
    "    (50, 0.5, 20, \"uniform\", \"swap\", 15),\n",
    "    (50, 0.5, 20, \"uniform\", \"inversion\", 5),\n",
    "    (50, 0.5, 20, \"uniform\", \"inversion\", 10),\n",
    "    (50, 0.5, 20, \"uniform\", \"inversion\", 15),\n",
    "    (50, 0.5, 40, \"one_point\", \"swap\", 5),\n",
    "    (50, 0.5, 40, \"one_point\", \"swap\", 10),\n",
    "    (50, 0.5, 40, \"one_point\", \"swap\", 15),\n",
    "    (50, 0.5, 40, \"one_point\", \"inversion\", 5),\n",
    "    (50, 0.5, 40, \"one_point\", \"inversion\", 10),\n",
    "    (50, 0.5, 40, \"one_point\", \"inversion\", 15),\n",
    "    (50, 0.5, 40, \"uniform\", \"swap\", 5),\n",
    "    (50, 0.5, 40, \"uniform\", \"swap\", 10),\n",
    "    (50, 0.5, 40, \"uniform\", \"swap\", 15),\n",
    "    (50, 0.5, 40, \"uniform\", \"inversion\", 5),\n",
    "    (50, 0.5, 40, \"uniform\", \"inversion\", 10),\n",
    "    (50, 0.5, 40, \"uniform\", \"inversion\", 15),\n",
    "    (100, 0.1, 10, \"one_point\", \"swap\", 5),\n",
    "    (100, 0.1, 10, \"one_point\", \"swap\", 10),\n",
    "    (100, 0.1, 10, \"one_point\", \"swap\", 15),\n",
    "    (100, 0.1, 10, \"one_point\", \"inversion\", 5),\n",
    "    (100, 0.1, 10, \"one_point\", \"inversion\", 10),\n",
    "    (100, 0.1, 10, \"one_point\", \"inversion\", 15),\n",
    "    (100, 0.1, 10, \"uniform\", \"swap\", 5),\n",
    "    (100, 0.1, 10, \"uniform\", \"swap\", 10),\n",
    "    (100, 0.1, 10, \"uniform\", \"swap\", 15),\n",
    "    (100, 0.1, 10, \"uniform\", \"inversion\", 5),\n",
    "    (100, 0.1, 10, \"uniform\", \"inversion\", 10),\n",
    "    (100, 0.1, 10, \"uniform\", \"inversion\", 15),\n",
    "    (100, 0.1, 20, \"one_point\", \"swap\", 5),\n",
    "    (100, 0.1, 20, \"one_point\", \"swap\", 10),\n",
    "    (100, 0.1, 20, \"one_point\", \"swap\", 15),\n",
    "    (100, 0.1, 20, \"one_point\", \"inversion\", 5),\n",
    "    (100, 0.1, 20, \"one_point\", \"inversion\", 10),\n",
    "    (100, 0.1, 20, \"one_point\", \"inversion\", 15),\n",
    "    (100, 0.1, 20, \"uniform\", \"swap\", 5),\n",
    "    (100, 0.1, 20, \"uniform\", \"swap\", 10),\n",
    "    (100, 0.1, 20, \"uniform\", \"swap\", 15),\n",
    "    (100, 0.1, 20, \"uniform\", \"inversion\", 5),\n",
    "    (100, 0.1, 20, \"uniform\", \"inversion\", 10),\n",
    "    (100, 0.1, 20, \"uniform\", \"inversion\", 15),\n",
    "    (100, 0.1, 40, \"one_point\", \"swap\", 5),\n",
    "    (100, 0.1, 40, \"one_point\", \"swap\", 10),\n",
    "    (100, 0.1, 40, \"one_point\", \"swap\", 15),\n",
    "    (100, 0.1, 40, \"one_point\", \"inversion\", 5),\n",
    "    (100, 0.1, 40, \"one_point\", \"inversion\", 10),\n",
    "    (100, 0.1, 40, \"one_point\", \"inversion\", 15),\n",
    "    (100, 0.1, 40, \"uniform\", \"swap\", 5),\n",
    "    (100, 0.1, 40, \"uniform\", \"swap\", 10),\n",
    "    (100, 0.1, 40, \"uniform\", \"swap\", 15),\n",
    "    (100, 0.1, 40, \"uniform\", \"inversion\", 5),\n",
    "    (100, 0.1, 40, \"uniform\", \"inversion\", 10),\n",
    "    (100, 0.1, 40, \"uniform\", \"inversion\", 15),\n",
    "    (100, 0.5, 10, \"one_point\", \"swap\", 5),\n",
    "    (100, 0.5, 10, \"one_point\", \"swap\", 10),\n",
    "    (100, 0.5, 10, \"one_point\", \"swap\", 15),\n",
    "    (100, 0.5, 10, \"one_point\", \"inversion\", 5),\n",
    "    (100, 0.5, 10, \"one_point\", \"inversion\", 10),\n",
    "    (100, 0.5, 10, \"one_point\", \"inversion\", 15),\n",
    "    (100, 0.5, 10, \"uniform\", \"swap\", 5),\n",
    "    (100, 0.5, 10, \"uniform\", \"swap\", 10),\n",
    "    (100, 0.5, 10, \"uniform\", \"swap\", 15),\n",
    "    (100, 0.5, 10, \"uniform\", \"inversion\", 5),\n",
    "    (100, 0.5, 10, \"uniform\", \"inversion\", 10),\n",
    "    (100, 0.5, 10, \"uniform\", \"inversion\", 15),\n",
    "    (100, 0.5, 20, \"one_point\", \"swap\", 5),\n",
    "    (100, 0.5, 20, \"one_point\", \"swap\", 10),\n",
    "    (100, 0.5, 20, \"one_point\", \"swap\", 15),\n",
    "    (100, 0.5, 20, \"one_point\", \"inversion\", 5),\n",
    "    (100, 0.5, 20, \"one_point\", \"inversion\", 10),\n",
    "    (100, 0.5, 20, \"one_point\", \"inversion\", 15),\n",
    "    (100, 0.5, 20, \"uniform\", \"swap\", 5),\n",
    "    (100, 0.5, 20, \"uniform\", \"swap\", 10),\n",
    "    (100, 0.5, 20, \"uniform\", \"swap\", 15),\n",
    "    (100, 0.5, 20, \"uniform\", \"inversion\", 5),\n",
    "    (100, 0.5, 20, \"uniform\", \"inversion\", 10),\n",
    "    (100, 0.5, 20, \"uniform\", \"inversion\", 15),\n",
    "    (100, 0.5, 40, \"one_point\", \"swap\", 5),\n",
    "    (100, 0.5, 40, \"one_point\", \"swap\", 10),\n",
    "    (100, 0.5, 40, \"one_point\", \"swap\", 15),\n",
    "    (100, 0.5, 40, \"one_point\", \"inversion\", 5),\n",
    "    (100, 0.5, 40, \"one_point\", \"inversion\", 10),\n",
    "    (100, 0.5, 40, \"one_point\", \"inversion\", 15),\n",
    "    (100, 0.5, 40, \"uniform\", \"swap\", 5),\n",
    "    (100, 0.5, 40, \"uniform\", \"swap\", 10),\n",
    "    (100, 0.5, 40, \"uniform\", \"swap\", 15),\n",
    "    (100, 0.5, 40, \"uniform\", \"inversion\", 5),\n",
    "    (100, 0.5, 40, \"uniform\", \"inversion\", 10),\n",
    "    (100, 0.5, 40, \"uniform\", \"inversion\", 15),\n",
    "    (150, 0.1, 10, \"one_point\", \"swap\", 5),\n",
    "    (150, 0.1, 10, \"one_point\", \"swap\", 10),\n",
    "    (150, 0.1, 10, \"one_point\", \"swap\", 15),\n",
    "    (150, 0.1, 10, \"one_point\", \"inversion\", 5),\n",
    "    (150, 0.1, 10, \"one_point\", \"inversion\", 10),\n",
    "    (150, 0.1, 10, \"one_point\", \"inversion\", 15),\n",
    "    (150, 0.1, 10, \"uniform\", \"swap\", 5),\n",
    "    (150, 0.1, 10, \"uniform\", \"swap\", 10),\n",
    "    (150, 0.1, 10, \"uniform\", \"swap\", 15),\n",
    "    (150, 0.1, 10, \"uniform\", \"inversion\", 5),\n",
    "    (150, 0.1, 10, \"uniform\", \"inversion\", 10),\n",
    "    (150, 0.1, 10, \"uniform\", \"inversion\", 15),\n",
    "    (150, 0.1, 20, \"one_point\", \"swap\", 5),\n",
    "    (150, 0.1, 20, \"one_point\", \"swap\", 10),\n",
    "    (150, 0.1, 20, \"one_point\", \"swap\", 15),\n",
    "    (150, 0.1, 20, \"one_point\", \"inversion\", 5),\n",
    "    (150, 0.1, 20, \"one_point\", \"inversion\", 10),\n",
    "    (150, 0.1, 20, \"one_point\", \"inversion\", 15),\n",
    "    (150, 0.1, 20, \"uniform\", \"swap\", 5),\n",
    "    (150, 0.1, 20, \"uniform\", \"swap\", 10),\n",
    "    (150, 0.1, 20, \"uniform\", \"swap\", 15),\n",
    "    (150, 0.1, 20, \"uniform\", \"inversion\", 5),\n",
    "    (150, 0.1, 20, \"uniform\", \"inversion\", 10),\n",
    "    (150, 0.1, 20, \"uniform\", \"inversion\", 15),\n",
    "    (150, 0.1, 40, \"one_point\", \"swap\", 5),\n",
    "    (150, 0.1, 40, \"one_point\", \"swap\", 10),\n",
    "    (150, 0.1, 40, \"one_point\", \"swap\", 15),\n",
    "    (150, 0.1, 40, \"one_point\", \"inversion\", 5),\n",
    "    (150, 0.1, 40, \"one_point\", \"inversion\", 10),\n",
    "    (150, 0.1, 40, \"one_point\", \"inversion\", 15),\n",
    "    (150, 0.1, 40, \"uniform\", \"swap\", 5),\n",
    "    (150, 0.1, 40, \"uniform\", \"swap\", 10),\n",
    "    (150, 0.1, 40, \"uniform\", \"swap\", 15),\n",
    "    (150, 0.1, 40, \"uniform\", \"inversion\", 5),\n",
    "    (150, 0.1, 40, \"uniform\", \"inversion\", 10),\n",
    "    (150, 0.1, 40, \"uniform\", \"inversion\", 15),\n",
    "    (150, 0.5, 10, \"one_point\", \"swap\", 5),\n",
    "    (150, 0.5, 10, \"one_point\", \"swap\", 10),\n",
    "    (150, 0.5, 10, \"one_point\", \"swap\", 15),\n",
    "    (150, 0.5, 10, \"one_point\", \"inversion\", 5),\n",
    "    (150, 0.5, 10, \"one_point\", \"inversion\", 10),\n",
    "    (150, 0.5, 10, \"one_point\", \"inversion\", 15),\n",
    "    (150, 0.5, 10, \"uniform\", \"swap\", 5),\n",
    "    (150, 0.5, 10, \"uniform\", \"swap\", 10),\n",
    "    (150, 0.5, 10, \"uniform\", \"swap\", 15),\n",
    "    (150, 0.5, 10, \"uniform\", \"inversion\", 5),\n",
    "    (150, 0.5, 10, \"uniform\", \"inversion\", 10),\n",
    "    (150, 0.5, 10, \"uniform\", \"inversion\", 15),\n",
    "    (150, 0.5, 20, \"one_point\", \"swap\", 5),\n",
    "    (150, 0.5, 20, \"one_point\", \"swap\", 10),\n",
    "    (150, 0.5, 20, \"one_point\", \"swap\", 15),\n",
    "    (150, 0.5, 20, \"one_point\", \"inversion\", 5),\n",
    "    (150, 0.5, 20, \"one_point\", \"inversion\", 10),\n",
    "    (150, 0.5, 20, \"one_point\", \"inversion\", 15),\n",
    "    (150, 0.5, 20, \"uniform\", \"swap\", 5),\n",
    "    (150, 0.5, 20, \"uniform\", \"swap\", 10),\n",
    "    (150, 0.5, 20, \"uniform\", \"swap\", 15),\n",
    "    (150, 0.5, 20, \"uniform\", \"inversion\", 5),\n",
    "    (150, 0.5, 20, \"uniform\", \"inversion\", 10),\n",
    "    (150, 0.5, 20, \"uniform\", \"inversion\", 15),\n",
    "    (150, 0.5, 40, \"one_point\", \"swap\", 5),\n",
    "    (150, 0.5, 40, \"one_point\", \"swap\", 10),\n",
    "    (150, 0.5, 40, \"one_point\", \"swap\", 15),\n",
    "    (150, 0.5, 40, \"one_point\", \"inversion\", 5),\n",
    "    (150, 0.5, 40, \"one_point\", \"inversion\", 10),\n",
    "    (150, 0.5, 40, \"one_point\", \"inversion\", 15),\n",
    "    (150, 0.5, 40, \"uniform\", \"swap\", 5),\n",
    "    (150, 0.5, 40, \"uniform\", \"swap\", 10),\n",
    "    (150, 0.5, 40, \"uniform\", \"swap\", 15),\n",
    "    (150, 0.5, 40, \"uniform\", \"inversion\", 5),\n",
    "    (150, 0.5, 40, \"uniform\", \"inversion\", 10),\n",
    "    (150, 0.5, 40, \"uniform\", \"inversion\", 15),\n",
    "    (200, 0.1, 10, \"one_point\", \"swap\", 5),\n",
    "    (200, 0.1, 10, \"one_point\", \"swap\", 10),\n",
    "    (200, 0.1, 10, \"one_point\", \"swap\", 15),\n",
    "    (200, 0.1, 10, \"one_point\", \"inversion\", 5),\n",
    "    (200, 0.1, 10, \"one_point\", \"inversion\", 10),\n",
    "    (200, 0.1, 10, \"one_point\", \"inversion\", 15),\n",
    "    (200, 0.1, 10, \"uniform\", \"swap\", 5),\n",
    "    (200, 0.1, 10, \"uniform\", \"swap\", 10),\n",
    "    (200, 0.1, 10, \"uniform\", \"swap\", 15),\n",
    "    (200, 0.1, 10, \"uniform\", \"inversion\", 5),\n",
    "    (200, 0.1, 10, \"uniform\", \"inversion\", 10),\n",
    "    (200, 0.1, 10, \"uniform\", \"inversion\", 15),\n",
    "    (200, 0.1, 20, \"one_point\", \"swap\", 5),\n",
    "    (200, 0.1, 20, \"one_point\", \"swap\", 10),\n",
    "    (200, 0.1, 20, \"one_point\", \"swap\", 15),\n",
    "    (200, 0.1, 20, \"one_point\", \"inversion\", 5),\n",
    "    (200, 0.1, 20, \"one_point\", \"inversion\", 10),\n",
    "    (200, 0.1, 20, \"one_point\", \"inversion\", 15),\n",
    "    (200, 0.1, 20, \"uniform\", \"swap\", 5),\n",
    "    (200, 0.1, 20, \"uniform\", \"swap\", 10),\n",
    "    (200, 0.1, 20, \"uniform\", \"swap\", 15),\n",
    "    (200, 0.1, 20, \"uniform\", \"inversion\", 5),\n",
    "    (200, 0.1, 20, \"uniform\", \"inversion\", 10),\n",
    "    (200, 0.1, 20, \"uniform\", \"inversion\", 15),\n",
    "    (200, 0.1, 40, \"one_point\", \"swap\", 5),\n",
    "    (200, 0.1, 40, \"one_point\", \"swap\", 10),\n",
    "    (200, 0.1, 40, \"one_point\", \"swap\", 15),\n",
    "    (200, 0.1, 40, \"one_point\", \"inversion\", 5),\n",
    "    (200, 0.1, 40, \"one_point\", \"inversion\", 10),\n",
    "    (200, 0.1, 40, \"one_point\", \"inversion\", 15),\n",
    "    (200, 0.1, 40, \"uniform\", \"swap\", 5),\n",
    "    (200, 0.1, 40, \"uniform\", \"swap\", 10),\n",
    "    (200, 0.1, 40, \"uniform\", \"swap\", 15),\n",
    "    (200, 0.1, 40, \"uniform\", \"inversion\", 5),\n",
    "    (200, 0.1, 40, \"uniform\", \"inversion\", 10),\n",
    "    (200, 0.1, 40, \"uniform\", \"inversion\", 15),\n",
    "    (200, 0.5, 10, \"one_point\", \"swap\", 5),\n",
    "    (200, 0.5, 10, \"one_point\", \"swap\", 10),\n",
    "    (200, 0.5, 10, \"one_point\", \"swap\", 15),\n",
    "    (200, 0.5, 10, \"one_point\", \"inversion\", 5),\n",
    "    (200, 0.5, 10, \"one_point\", \"inversion\", 10),\n",
    "    (200, 0.5, 10, \"one_point\", \"inversion\", 15),\n",
    "    (200, 0.5, 10, \"uniform\", \"swap\", 5),\n",
    "    (200, 0.5, 10, \"uniform\", \"swap\", 10),\n",
    "    (200, 0.5, 10, \"uniform\", \"swap\", 15),\n",
    "    (200, 0.5, 10, \"uniform\", \"inversion\", 5),\n",
    "    (200, 0.5, 10, \"uniform\", \"inversion\", 10),\n",
    "    (200, 0.5, 10, \"uniform\", \"inversion\", 15),\n",
    "    (200, 0.5, 20, \"one_point\", \"swap\", 5),\n",
    "    (200, 0.5, 20, \"one_point\", \"swap\", 10),\n",
    "    (200, 0.5, 20, \"one_point\", \"swap\", 15),\n",
    "    (200, 0.5, 20, \"one_point\", \"inversion\", 5),\n",
    "    (200, 0.5, 20, \"one_point\", \"inversion\", 10),\n",
    "    (200, 0.5, 20, \"one_point\", \"inversion\", 15),\n",
    "    (200, 0.5, 20, \"uniform\", \"swap\", 5),\n",
    "    (200, 0.5, 20, \"uniform\", \"swap\", 10),\n",
    "    (200, 0.5, 20, \"uniform\", \"swap\", 15),\n",
    "    (200, 0.5, 20, \"uniform\", \"inversion\", 5),\n",
    "    (200, 0.5, 20, \"uniform\", \"inversion\", 10),\n",
    "    (200, 0.5, 20, \"uniform\", \"inversion\", 15),\n",
    "    (200, 0.5, 40, \"one_point\", \"swap\", 5),\n",
    "    (200, 0.5, 40, \"one_point\", \"swap\", 10),\n",
    "    (200, 0.5, 40, \"one_point\", \"swap\", 15),\n",
    "    (200, 0.5, 40, \"one_point\", \"inversion\", 5),\n",
    "    (200, 0.5, 40, \"one_point\", \"inversion\", 10),\n",
    "    (200, 0.5, 40, \"one_point\", \"inversion\", 15),\n",
    "    (200, 0.5, 40, \"uniform\", \"swap\", 5),\n",
    "    (200, 0.5, 40, \"uniform\", \"swap\", 10),\n",
    "    (200, 0.5, 40, \"uniform\", \"swap\", 15),\n",
    "    (200, 0.5, 40, \"uniform\", \"inversion\", 5),\n",
    "    (200, 0.5, 40, \"uniform\", \"inversion\", 10),\n",
    "    (200, 0.5, 40, \"uniform\", \"inversion\", 15),\n",
    "    # Add more combinations here if needed\n",
    "]"
   ]
  },
  {
   "cell_type": "code",
   "execution_count": 3,
   "metadata": {},
   "outputs": [
    {
     "name": "stderr",
     "output_type": "stream",
     "text": [
      "  0%|          | 0/148 [00:00<?, ?it/s]"
     ]
    },
    {
     "name": "stderr",
     "output_type": "stream",
     "text": [
      "  1%|          | 1/148 [26:08<64:01:55, 1568.14s/it]"
     ]
    },
    {
     "name": "stdout",
     "output_type": "stream",
     "text": [
      "Checkpoint 140 saved successfully.\n"
     ]
    },
    {
     "name": "stderr",
     "output_type": "stream",
     "text": [
      "  4%|▍         | 6/148 [1:08:21<19:01:29, 482.32s/it]"
     ]
    },
    {
     "name": "stdout",
     "output_type": "stream",
     "text": [
      "Checkpoint 145 saved successfully.\n"
     ]
    },
    {
     "name": "stderr",
     "output_type": "stream",
     "text": [
      "  7%|▋         | 11/148 [1:28:34<10:09:34, 266.97s/it]"
     ]
    },
    {
     "name": "stdout",
     "output_type": "stream",
     "text": [
      "Error occurred for combination: (150, 0.1, 10, 'uniform', 'swap', 5). Error message: [Errno 22] Invalid argument: 'checkpoint_150.xlsx'\n"
     ]
    },
    {
     "name": "stderr",
     "output_type": "stream",
     "text": [
      " 11%|█         | 16/148 [1:48:09<9:14:07, 251.88s/it] "
     ]
    },
    {
     "name": "stdout",
     "output_type": "stream",
     "text": [
      "Error occurred for combination: (150, 0.1, 10, 'uniform', 'inversion', 15). Error message: [Errno 22] Invalid argument: 'checkpoint_155.xlsx'\n"
     ]
    },
    {
     "name": "stderr",
     "output_type": "stream",
     "text": [
      " 14%|█▍        | 21/148 [2:24:55<14:26:51, 409.54s/it]"
     ]
    },
    {
     "name": "stdout",
     "output_type": "stream",
     "text": [
      "Error occurred for combination: (150, 0.1, 20, 'one_point', 'inversion', 10). Error message: [Errno 22] Invalid argument: 'checkpoint_160.xlsx'\n"
     ]
    },
    {
     "name": "stderr",
     "output_type": "stream",
     "text": [
      " 18%|█▊        | 26/148 [3:49:04<36:14:25, 1069.39s/it]"
     ]
    },
    {
     "name": "stdout",
     "output_type": "stream",
     "text": [
      "Error occurred for combination: (150, 0.1, 20, 'uniform', 'inversion', 5). Error message: [Errno 22] Invalid argument: 'checkpoint_165.xlsx'\n"
     ]
    },
    {
     "name": "stderr",
     "output_type": "stream",
     "text": [
      " 21%|██        | 31/148 [6:30:19<64:45:38, 1992.64s/it]"
     ]
    },
    {
     "name": "stdout",
     "output_type": "stream",
     "text": [
      "Error occurred for combination: (150, 0.1, 40, 'one_point', 'swap', 15). Error message: [Errno 22] Invalid argument: 'checkpoint_170.xlsx'\n"
     ]
    },
    {
     "name": "stderr",
     "output_type": "stream",
     "text": [
      " 24%|██▍       | 36/148 [8:21:37<41:21:37, 1329.44s/it]"
     ]
    },
    {
     "name": "stdout",
     "output_type": "stream",
     "text": [
      "Error occurred for combination: (150, 0.1, 40, 'uniform', 'swap', 10). Error message: [Errno 22] Invalid argument: 'checkpoint_175.xlsx'\n"
     ]
    },
    {
     "name": "stderr",
     "output_type": "stream",
     "text": [
      " 28%|██▊       | 41/148 [9:35:37<25:27:41, 856.65s/it] "
     ]
    },
    {
     "name": "stdout",
     "output_type": "stream",
     "text": [
      "Error occurred for combination: (150, 0.5, 10, 'one_point', 'swap', 5). Error message: [Errno 22] Invalid argument: 'checkpoint_180.xlsx'\n"
     ]
    },
    {
     "name": "stderr",
     "output_type": "stream",
     "text": [
      " 31%|███       | 46/148 [9:58:44<10:58:00, 387.07s/it]"
     ]
    },
    {
     "name": "stdout",
     "output_type": "stream",
     "text": [
      "Error occurred for combination: (150, 0.5, 10, 'one_point', 'inversion', 15). Error message: [Errno 22] Invalid argument: 'checkpoint_185.xlsx'\n"
     ]
    },
    {
     "name": "stderr",
     "output_type": "stream",
     "text": [
      " 34%|███▍      | 51/148 [10:17:12<6:45:14, 250.66s/it]"
     ]
    },
    {
     "name": "stdout",
     "output_type": "stream",
     "text": [
      "Error occurred for combination: (150, 0.5, 10, 'uniform', 'inversion', 10). Error message: [Errno 22] Invalid argument: 'checkpoint_190.xlsx'\n"
     ]
    },
    {
     "name": "stderr",
     "output_type": "stream",
     "text": [
      " 38%|███▊      | 56/148 [10:50:13<9:10:56, 359.31s/it] "
     ]
    },
    {
     "name": "stdout",
     "output_type": "stream",
     "text": [
      "Error occurred for combination: (150, 0.5, 20, 'one_point', 'inversion', 5). Error message: [Errno 22] Invalid argument: 'checkpoint_195.xlsx'\n"
     ]
    },
    {
     "name": "stderr",
     "output_type": "stream",
     "text": [
      " 41%|████      | 61/148 [11:32:30<11:51:30, 490.70s/it]"
     ]
    },
    {
     "name": "stdout",
     "output_type": "stream",
     "text": [
      "Error occurred for combination: (150, 0.5, 20, 'uniform', 'swap', 15). Error message: [Errno 22] Invalid argument: 'checkpoint_200.xlsx'\n"
     ]
    },
    {
     "name": "stderr",
     "output_type": "stream",
     "text": [
      " 45%|████▍     | 66/148 [12:18:27<14:16:10, 626.47s/it]"
     ]
    },
    {
     "name": "stdout",
     "output_type": "stream",
     "text": [
      "Error occurred for combination: (150, 0.5, 40, 'one_point', 'swap', 10). Error message: [Errno 22] Invalid argument: 'checkpoint_205.xlsx'\n"
     ]
    },
    {
     "name": "stderr",
     "output_type": "stream",
     "text": [
      " 48%|████▊     | 71/148 [13:24:56<15:27:17, 722.57s/it]"
     ]
    },
    {
     "name": "stdout",
     "output_type": "stream",
     "text": [
      "Error occurred for combination: (150, 0.5, 40, 'uniform', 'swap', 5). Error message: [Errno 22] Invalid argument: 'checkpoint_210.xlsx'\n"
     ]
    },
    {
     "name": "stderr",
     "output_type": "stream",
     "text": [
      " 51%|█████▏    | 76/148 [14:39:34<18:19:29, 916.25s/it]"
     ]
    },
    {
     "name": "stdout",
     "output_type": "stream",
     "text": [
      "Error occurred for combination: (150, 0.5, 40, 'uniform', 'inversion', 15). Error message: [Errno 22] Invalid argument: 'checkpoint_215.xlsx'\n"
     ]
    },
    {
     "name": "stderr",
     "output_type": "stream",
     "text": [
      " 55%|█████▍    | 81/148 [15:03:11<7:29:51, 402.86s/it] "
     ]
    },
    {
     "name": "stdout",
     "output_type": "stream",
     "text": [
      "Error occurred for combination: (200, 0.1, 10, 'one_point', 'inversion', 10). Error message: [Errno 22] Invalid argument: 'checkpoint_220.xlsx'\n"
     ]
    },
    {
     "name": "stderr",
     "output_type": "stream",
     "text": [
      " 58%|█████▊    | 86/148 [15:30:22<5:31:50, 321.14s/it]"
     ]
    },
    {
     "name": "stdout",
     "output_type": "stream",
     "text": [
      "Error occurred for combination: (200, 0.1, 10, 'uniform', 'inversion', 5). Error message: [Errno 22] Invalid argument: 'checkpoint_225.xlsx'\n"
     ]
    },
    {
     "name": "stderr",
     "output_type": "stream",
     "text": [
      " 61%|██████▏   | 91/148 [16:24:16<11:22:46, 718.71s/it]"
     ]
    },
    {
     "name": "stdout",
     "output_type": "stream",
     "text": [
      "Error occurred for combination: (200, 0.1, 20, 'one_point', 'swap', 15). Error message: [Errno 22] Invalid argument: 'checkpoint_230.xlsx'\n"
     ]
    },
    {
     "name": "stderr",
     "output_type": "stream",
     "text": [
      " 65%|██████▍   | 96/148 [17:23:13<11:51:02, 820.43s/it]"
     ]
    },
    {
     "name": "stdout",
     "output_type": "stream",
     "text": [
      "Error occurred for combination: (200, 0.1, 20, 'uniform', 'swap', 10). Error message: [Errno 22] Invalid argument: 'checkpoint_235.xlsx'\n"
     ]
    },
    {
     "name": "stderr",
     "output_type": "stream",
     "text": [
      " 68%|██████▊   | 101/148 [18:52:24<12:31:50, 959.79s/it] "
     ]
    },
    {
     "name": "stdout",
     "output_type": "stream",
     "text": [
      "Error occurred for combination: (200, 0.1, 40, 'one_point', 'swap', 5). Error message: [Errno 22] Invalid argument: 'checkpoint_240.xlsx'\n"
     ]
    },
    {
     "name": "stderr",
     "output_type": "stream",
     "text": [
      " 72%|███████▏  | 106/148 [21:39:39<22:55:20, 1964.78s/it]"
     ]
    },
    {
     "name": "stdout",
     "output_type": "stream",
     "text": [
      "Error occurred for combination: (200, 0.1, 40, 'one_point', 'inversion', 15). Error message: [Errno 22] Invalid argument: 'checkpoint_245.xlsx'\n"
     ]
    },
    {
     "name": "stderr",
     "output_type": "stream",
     "text": [
      " 75%|███████▌  | 111/148 [23:46:09<17:04:00, 1660.55s/it]"
     ]
    },
    {
     "name": "stdout",
     "output_type": "stream",
     "text": [
      "Error occurred for combination: (200, 0.1, 40, 'uniform', 'inversion', 10). Error message: [Errno 22] Invalid argument: 'checkpoint_250.xlsx'\n"
     ]
    },
    {
     "name": "stderr",
     "output_type": "stream",
     "text": [
      " 78%|███████▊  | 116/148 [24:44:31<6:12:18, 698.06s/it]  "
     ]
    },
    {
     "name": "stdout",
     "output_type": "stream",
     "text": [
      "Error occurred for combination: (200, 0.5, 10, 'one_point', 'inversion', 5). Error message: [Errno 22] Invalid argument: 'checkpoint_255.xlsx'\n"
     ]
    },
    {
     "name": "stderr",
     "output_type": "stream",
     "text": [
      " 82%|████████▏ | 121/148 [25:21:43<3:37:47, 483.98s/it]"
     ]
    },
    {
     "name": "stdout",
     "output_type": "stream",
     "text": [
      "Error occurred for combination: (200, 0.5, 10, 'uniform', 'swap', 15). Error message: [Errno 22] Invalid argument: 'checkpoint_260.xlsx'\n"
     ]
    },
    {
     "name": "stderr",
     "output_type": "stream",
     "text": [
      " 85%|████████▌ | 126/148 [26:09:55<3:46:46, 618.49s/it]"
     ]
    },
    {
     "name": "stdout",
     "output_type": "stream",
     "text": [
      "Error occurred for combination: (200, 0.5, 20, 'one_point', 'swap', 10). Error message: [Errno 22] Invalid argument: 'checkpoint_265.xlsx'\n"
     ]
    },
    {
     "name": "stderr",
     "output_type": "stream",
     "text": [
      " 89%|████████▊ | 131/148 [27:27:05<3:27:18, 731.70s/it] "
     ]
    },
    {
     "name": "stdout",
     "output_type": "stream",
     "text": [
      "Error occurred for combination: (200, 0.5, 20, 'uniform', 'swap', 5). Error message: [Errno 22] Invalid argument: 'checkpoint_270.xlsx'\n"
     ]
    },
    {
     "name": "stderr",
     "output_type": "stream",
     "text": [
      " 92%|█████████▏| 136/148 [29:08:58<4:15:52, 1279.34s/it]"
     ]
    },
    {
     "name": "stdout",
     "output_type": "stream",
     "text": [
      "Error occurred for combination: (200, 0.5, 20, 'uniform', 'inversion', 15). Error message: [Errno 22] Invalid argument: 'checkpoint_275.xlsx'\n"
     ]
    },
    {
     "name": "stderr",
     "output_type": "stream",
     "text": [
      " 95%|█████████▌| 141/148 [30:57:15<2:30:04, 1286.33s/it]"
     ]
    },
    {
     "name": "stdout",
     "output_type": "stream",
     "text": [
      "Error occurred for combination: (200, 0.5, 40, 'one_point', 'inversion', 10). Error message: [Errno 22] Invalid argument: 'checkpoint_280.xlsx'\n"
     ]
    },
    {
     "name": "stderr",
     "output_type": "stream",
     "text": [
      " 99%|█████████▊| 146/148 [32:32:36<33:45, 1012.56s/it]  "
     ]
    },
    {
     "name": "stdout",
     "output_type": "stream",
     "text": [
      "Error occurred for combination: (200, 0.5, 40, 'uniform', 'inversion', 5). Error message: [Errno 22] Invalid argument: 'checkpoint_285.xlsx'\n"
     ]
    },
    {
     "name": "stderr",
     "output_type": "stream",
     "text": [
      "100%|██████████| 148/148 [33:13:50<00:00, 808.31s/it] \n"
     ]
    },
    {
     "ename": "OSError",
     "evalue": "[Errno 22] Invalid argument: 'results.xlsx'",
     "output_type": "error",
     "traceback": [
      "\u001b[1;31m---------------------------------------------------------------------------\u001b[0m",
      "\u001b[1;31mOSError\u001b[0m                                   Traceback (most recent call last)",
      "Cell \u001b[1;32mIn[3], line 48\u001b[0m\n\u001b[0;32m     43\u001b[0m \u001b[39m# The loop has finished; results are already collected\u001b[39;00m\n\u001b[0;32m     44\u001b[0m \n\u001b[0;32m     45\u001b[0m \u001b[39mfinally\u001b[39;00m:\n\u001b[0;32m     46\u001b[0m     \u001b[39m# Save the final results to a file\u001b[39;00m\n\u001b[0;32m     47\u001b[0m     results_df \u001b[39m=\u001b[39m pd\u001b[39m.\u001b[39mDataFrame(results_list, columns\u001b[39m=\u001b[39m[\u001b[39m'\u001b[39m\u001b[39mPopulation Size\u001b[39m\u001b[39m'\u001b[39m, \u001b[39m'\u001b[39m\u001b[39mMutation Rate\u001b[39m\u001b[39m'\u001b[39m, \u001b[39m'\u001b[39m\u001b[39mNumber of Generations\u001b[39m\u001b[39m'\u001b[39m, \u001b[39m'\u001b[39m\u001b[39mCrossover Function\u001b[39m\u001b[39m'\u001b[39m, \u001b[39m'\u001b[39m\u001b[39mMutation Function\u001b[39m\u001b[39m'\u001b[39m, \u001b[39m'\u001b[39m\u001b[39mNo. of Recommendations\u001b[39m\u001b[39m'\u001b[39m, \u001b[39m'\u001b[39m\u001b[39mBest Solution\u001b[39m\u001b[39m'\u001b[39m, \u001b[39m'\u001b[39m\u001b[39mSemratings Dictionary\u001b[39m\u001b[39m'\u001b[39m, \u001b[39m'\u001b[39m\u001b[39mFitness Scores Dict\u001b[39m\u001b[39m'\u001b[39m, \u001b[39m'\u001b[39m\u001b[39mBest Solution By Generation\u001b[39m\u001b[39m'\u001b[39m])\n\u001b[1;32m---> 48\u001b[0m     results_df\u001b[39m.\u001b[39;49mto_excel(filename, index\u001b[39m=\u001b[39;49m\u001b[39mFalse\u001b[39;49;00m)\n\u001b[0;32m     49\u001b[0m     \u001b[39mprint\u001b[39m(\u001b[39m\"\u001b[39m\u001b[39mResults saved successfully.\u001b[39m\u001b[39m\"\u001b[39m)\n",
      "File \u001b[1;32mc:\\Users\\Surface\\AppData\\Local\\Programs\\Python\\Python311\\Lib\\site-packages\\pandas\\core\\generic.py:2252\u001b[0m, in \u001b[0;36mNDFrame.to_excel\u001b[1;34m(self, excel_writer, sheet_name, na_rep, float_format, columns, header, index, index_label, startrow, startcol, engine, merge_cells, inf_rep, freeze_panes, storage_options)\u001b[0m\n\u001b[0;32m   2239\u001b[0m \u001b[39mfrom\u001b[39;00m \u001b[39mpandas\u001b[39;00m\u001b[39m.\u001b[39;00m\u001b[39mio\u001b[39;00m\u001b[39m.\u001b[39;00m\u001b[39mformats\u001b[39;00m\u001b[39m.\u001b[39;00m\u001b[39mexcel\u001b[39;00m \u001b[39mimport\u001b[39;00m ExcelFormatter\n\u001b[0;32m   2241\u001b[0m formatter \u001b[39m=\u001b[39m ExcelFormatter(\n\u001b[0;32m   2242\u001b[0m     df,\n\u001b[0;32m   2243\u001b[0m     na_rep\u001b[39m=\u001b[39mna_rep,\n\u001b[1;32m   (...)\u001b[0m\n\u001b[0;32m   2250\u001b[0m     inf_rep\u001b[39m=\u001b[39minf_rep,\n\u001b[0;32m   2251\u001b[0m )\n\u001b[1;32m-> 2252\u001b[0m formatter\u001b[39m.\u001b[39;49mwrite(\n\u001b[0;32m   2253\u001b[0m     excel_writer,\n\u001b[0;32m   2254\u001b[0m     sheet_name\u001b[39m=\u001b[39;49msheet_name,\n\u001b[0;32m   2255\u001b[0m     startrow\u001b[39m=\u001b[39;49mstartrow,\n\u001b[0;32m   2256\u001b[0m     startcol\u001b[39m=\u001b[39;49mstartcol,\n\u001b[0;32m   2257\u001b[0m     freeze_panes\u001b[39m=\u001b[39;49mfreeze_panes,\n\u001b[0;32m   2258\u001b[0m     engine\u001b[39m=\u001b[39;49mengine,\n\u001b[0;32m   2259\u001b[0m     storage_options\u001b[39m=\u001b[39;49mstorage_options,\n\u001b[0;32m   2260\u001b[0m )\n",
      "File \u001b[1;32mc:\\Users\\Surface\\AppData\\Local\\Programs\\Python\\Python311\\Lib\\site-packages\\pandas\\io\\formats\\excel.py:934\u001b[0m, in \u001b[0;36mExcelFormatter.write\u001b[1;34m(self, writer, sheet_name, startrow, startcol, freeze_panes, engine, storage_options)\u001b[0m\n\u001b[0;32m    930\u001b[0m     need_save \u001b[39m=\u001b[39m \u001b[39mFalse\u001b[39;00m\n\u001b[0;32m    931\u001b[0m \u001b[39melse\u001b[39;00m:\n\u001b[0;32m    932\u001b[0m     \u001b[39m# error: Cannot instantiate abstract class 'ExcelWriter' with abstract\u001b[39;00m\n\u001b[0;32m    933\u001b[0m     \u001b[39m# attributes 'engine', 'save', 'supported_extensions' and 'write_cells'\u001b[39;00m\n\u001b[1;32m--> 934\u001b[0m     writer \u001b[39m=\u001b[39m ExcelWriter(  \u001b[39m# type: ignore[abstract]\u001b[39;49;00m\n\u001b[0;32m    935\u001b[0m         writer, engine\u001b[39m=\u001b[39;49mengine, storage_options\u001b[39m=\u001b[39;49mstorage_options\n\u001b[0;32m    936\u001b[0m     )\n\u001b[0;32m    937\u001b[0m     need_save \u001b[39m=\u001b[39m \u001b[39mTrue\u001b[39;00m\n\u001b[0;32m    939\u001b[0m \u001b[39mtry\u001b[39;00m:\n",
      "File \u001b[1;32mc:\\Users\\Surface\\AppData\\Local\\Programs\\Python\\Python311\\Lib\\site-packages\\pandas\\io\\excel\\_openpyxl.py:60\u001b[0m, in \u001b[0;36mOpenpyxlWriter.__init__\u001b[1;34m(self, path, engine, date_format, datetime_format, mode, storage_options, if_sheet_exists, engine_kwargs, **kwargs)\u001b[0m\n\u001b[0;32m     56\u001b[0m \u001b[39mfrom\u001b[39;00m \u001b[39mopenpyxl\u001b[39;00m\u001b[39m.\u001b[39;00m\u001b[39mworkbook\u001b[39;00m \u001b[39mimport\u001b[39;00m Workbook\n\u001b[0;32m     58\u001b[0m engine_kwargs \u001b[39m=\u001b[39m combine_kwargs(engine_kwargs, kwargs)\n\u001b[1;32m---> 60\u001b[0m \u001b[39msuper\u001b[39;49m()\u001b[39m.\u001b[39;49m\u001b[39m__init__\u001b[39;49m(\n\u001b[0;32m     61\u001b[0m     path,\n\u001b[0;32m     62\u001b[0m     mode\u001b[39m=\u001b[39;49mmode,\n\u001b[0;32m     63\u001b[0m     storage_options\u001b[39m=\u001b[39;49mstorage_options,\n\u001b[0;32m     64\u001b[0m     if_sheet_exists\u001b[39m=\u001b[39;49mif_sheet_exists,\n\u001b[0;32m     65\u001b[0m     engine_kwargs\u001b[39m=\u001b[39;49mengine_kwargs,\n\u001b[0;32m     66\u001b[0m )\n\u001b[0;32m     68\u001b[0m \u001b[39m# ExcelWriter replaced \"a\" by \"r+\" to allow us to first read the excel file from\u001b[39;00m\n\u001b[0;32m     69\u001b[0m \u001b[39m# the file and later write to it\u001b[39;00m\n\u001b[0;32m     70\u001b[0m \u001b[39mif\u001b[39;00m \u001b[39m\"\u001b[39m\u001b[39mr+\u001b[39m\u001b[39m\"\u001b[39m \u001b[39min\u001b[39;00m \u001b[39mself\u001b[39m\u001b[39m.\u001b[39m_mode:  \u001b[39m# Load from existing workbook\u001b[39;00m\n",
      "File \u001b[1;32mc:\\Users\\Surface\\AppData\\Local\\Programs\\Python\\Python311\\Lib\\site-packages\\pandas\\io\\excel\\_base.py:1219\u001b[0m, in \u001b[0;36mExcelWriter.__init__\u001b[1;34m(self, path, engine, date_format, datetime_format, mode, storage_options, if_sheet_exists, engine_kwargs)\u001b[0m\n\u001b[0;32m   1215\u001b[0m \u001b[39mself\u001b[39m\u001b[39m.\u001b[39m_handles \u001b[39m=\u001b[39m IOHandles(\n\u001b[0;32m   1216\u001b[0m     cast(IO[\u001b[39mbytes\u001b[39m], path), compression\u001b[39m=\u001b[39m{\u001b[39m\"\u001b[39m\u001b[39mcompression\u001b[39m\u001b[39m\"\u001b[39m: \u001b[39mNone\u001b[39;00m}\n\u001b[0;32m   1217\u001b[0m )\n\u001b[0;32m   1218\u001b[0m \u001b[39mif\u001b[39;00m \u001b[39mnot\u001b[39;00m \u001b[39misinstance\u001b[39m(path, ExcelWriter):\n\u001b[1;32m-> 1219\u001b[0m     \u001b[39mself\u001b[39m\u001b[39m.\u001b[39m_handles \u001b[39m=\u001b[39m get_handle(\n\u001b[0;32m   1220\u001b[0m         path, mode, storage_options\u001b[39m=\u001b[39;49mstorage_options, is_text\u001b[39m=\u001b[39;49m\u001b[39mFalse\u001b[39;49;00m\n\u001b[0;32m   1221\u001b[0m     )\n\u001b[0;32m   1222\u001b[0m \u001b[39mself\u001b[39m\u001b[39m.\u001b[39m_cur_sheet \u001b[39m=\u001b[39m \u001b[39mNone\u001b[39;00m\n\u001b[0;32m   1224\u001b[0m \u001b[39mif\u001b[39;00m date_format \u001b[39mis\u001b[39;00m \u001b[39mNone\u001b[39;00m:\n",
      "File \u001b[1;32mc:\\Users\\Surface\\AppData\\Local\\Programs\\Python\\Python311\\Lib\\site-packages\\pandas\\io\\common.py:868\u001b[0m, in \u001b[0;36mget_handle\u001b[1;34m(path_or_buf, mode, encoding, compression, memory_map, is_text, errors, storage_options)\u001b[0m\n\u001b[0;32m    859\u001b[0m         handle \u001b[39m=\u001b[39m \u001b[39mopen\u001b[39m(\n\u001b[0;32m    860\u001b[0m             handle,\n\u001b[0;32m    861\u001b[0m             ioargs\u001b[39m.\u001b[39mmode,\n\u001b[1;32m   (...)\u001b[0m\n\u001b[0;32m    864\u001b[0m             newline\u001b[39m=\u001b[39m\u001b[39m\"\u001b[39m\u001b[39m\"\u001b[39m,\n\u001b[0;32m    865\u001b[0m         )\n\u001b[0;32m    866\u001b[0m     \u001b[39melse\u001b[39;00m:\n\u001b[0;32m    867\u001b[0m         \u001b[39m# Binary mode\u001b[39;00m\n\u001b[1;32m--> 868\u001b[0m         handle \u001b[39m=\u001b[39m \u001b[39mopen\u001b[39m(handle, ioargs\u001b[39m.\u001b[39mmode)\n\u001b[0;32m    869\u001b[0m     handles\u001b[39m.\u001b[39mappend(handle)\n\u001b[0;32m    871\u001b[0m \u001b[39m# Convert BytesIO or file objects passed with an encoding\u001b[39;00m\n",
      "\u001b[1;31mOSError\u001b[0m: [Errno 22] Invalid argument: 'results.xlsx'"
     ]
    }
   ],
   "source": [
    "import pandas as pd\n",
    "import os\n",
    "from datetime import datetime\n",
    "from tqdm import tqdm  # Import the tqdm function\n",
    "\n",
    "# Define your genetic algorithm function here (genetic_algorithm_function)\n",
    "\n",
    "filename = 'results.xlsx'\n",
    "results_list = []  # Initialize the results_list before the loop\n",
    "checkpoint_interval = 5  # Set the checkpoint interval in iterations\n",
    "\n",
    "try:\n",
    "    # Use tqdm to create a progress bar\n",
    "    for i in tqdm(range(140, len(combinations_list))):\n",
    "        combo = combinations_list[i]\n",
    "        pop_size, mutation_rate, num_generations, crossover_func, mutation_func, no_rec = combinations_list[i]\n",
    "\n",
    "        try:\n",
    "            # Using BookRecommendationSystem\n",
    "            recommender = BookRecommendationSystem(user_ratings_input, user_ratings, semantic)\n",
    "\n",
    "            # Call the genetic_algorithm method with appropriate arguments\n",
    "            best_solution, semratings_dict, fitness_scores_dict, best_solutions_by_generation = recommender.genetic_algorithm(\n",
    "                pop_size, mutation_rate, num_generations, crossover_func, mutation_func, no_rec\n",
    "            )\n",
    "\n",
    "            # Append the results to the list\n",
    "            results_list.append((pop_size, mutation_rate, num_generations, crossover_func, mutation_func, no_rec, best_solution, semratings_dict, fitness_scores_dict, best_solutions_by_generation))\n",
    "\n",
    "            # Periodically save the results to a file\n",
    "            if i % checkpoint_interval == 0:\n",
    "                results_df = pd.DataFrame(results_list, columns=['Population Size', 'Mutation Rate', 'Number of Generations', 'Crossover Function', 'Mutation Function', 'No. of Recommendations', 'Best Solution', 'Semratings Dictionary', 'Fitness Scores Dict', 'Best Solution By Generation'])\n",
    "\n",
    "                # Save the DataFrame to the unique filename with a checkpoint number\n",
    "                checkpoint_filename = f\"checkpoint_{i}.xlsx\"\n",
    "                results_df.to_excel(checkpoint_filename, index=False)\n",
    "                print(f\"Checkpoint {i} saved successfully.\")\n",
    "\n",
    "        except Exception as e:\n",
    "            # Handle specific exceptions that occur during execution\n",
    "            print(f\"Error occurred for combination: {combo}. Error message: {str(e)}\")\n",
    "\n",
    "# The loop has finished; results are already collected\n",
    "\n",
    "finally:\n",
    "    # Save the final results to a file\n",
    "    results_df = pd.DataFrame(results_list, columns=['Population Size', 'Mutation Rate', 'Number of Generations', 'Crossover Function', 'Mutation Function', 'No. of Recommendations', 'Best Solution', 'Semratings Dictionary', 'Fitness Scores Dict', 'Best Solution By Generation'])\n",
    "    results_df.to_excel(filename, index=False)\n",
    "    print(\"Results saved successfully.\")"
   ]
  },
  {
   "cell_type": "code",
   "execution_count": 6,
   "metadata": {},
   "outputs": [],
   "source": [
    "import csv\n",
    "import os\n",
    "\n",
    "def export_list_to_csv(data_list, file_path):\n",
    "    with open(file_path, mode='w', newline='') as file:\n",
    "        writer = csv.writer(file)\n",
    "        writer.writerows(data_list)\n",
    "\n",
    "# Get the absolute path of the file\n",
    "current_directory = os.getcwd()\n",
    "csv_file_path = os.path.join(current_directory, 'results.csv')\n",
    "\n",
    "export_list_to_csv(results_list, csv_file_path)\n"
   ]
  },
  {
   "cell_type": "code",
   "execution_count": 8,
   "metadata": {},
   "outputs": [],
   "source": [
    "import pandas as pd\n",
    "\n",
    "\n",
    "# Convert the list of tuples to a pandas DataFrame\n",
    "df = pd.DataFrame(results_list, columns=[\"PopSize\", \"MutationRate\", \"NumGenerations\", \"CrossoverFunc\", \"MutationFunc\", \"NoRec\", \"BestSolution\", \"SemratingsDict\", \"FitnessScoresDict\", \"BestSolutionsByGeneration\"])\n",
    "\n",
    "# Save the DataFrame to a CSV file without truncation\n",
    "# Get the absolute path of the file\n",
    "current_directory = os.getcwd()\n",
    "csv_file_path = os.path.join(current_directory, 'results2.csv')\n",
    "\n",
    "df.to_csv(csv_file_path, index=False)\n"
   ]
  },
  {
   "cell_type": "code",
   "execution_count": 2,
   "metadata": {},
   "outputs": [
    {
     "ename": "NameError",
     "evalue": "name 'results_list' is not defined",
     "output_type": "error",
     "traceback": [
      "\u001b[1;31m---------------------------------------------------------------------------\u001b[0m",
      "\u001b[1;31mNameError\u001b[0m                                 Traceback (most recent call last)",
      "Cell \u001b[1;32mIn[2], line 1\u001b[0m\n\u001b[1;32m----> 1\u001b[0m results_list\n",
      "\u001b[1;31mNameError\u001b[0m: name 'results_list' is not defined"
     ]
    }
   ],
   "source": [
    "results_list"
   ]
  },
  {
   "cell_type": "code",
   "execution_count": null,
   "metadata": {},
   "outputs": [],
   "source": []
  }
 ],
 "metadata": {
  "kernelspec": {
   "display_name": "Python 3",
   "language": "python",
   "name": "python3"
  },
  "language_info": {
   "codemirror_mode": {
    "name": "ipython",
    "version": 3
   },
   "file_extension": ".py",
   "mimetype": "text/x-python",
   "name": "python",
   "nbconvert_exporter": "python",
   "pygments_lexer": "ipython3",
   "version": "3.11.2"
  },
  "orig_nbformat": 4
 },
 "nbformat": 4,
 "nbformat_minor": 2
}
